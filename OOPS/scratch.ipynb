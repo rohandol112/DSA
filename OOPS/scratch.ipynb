{
 "cells": [
  {
   "cell_type": "code",
   "execution_count": null,
   "id": "initial_id",
   "metadata": {
    "collapsed": true
   },
   "outputs": [],
   "source": [
    "#billing system for a tea stall . Menu driven system to give order and produce bill.\n",
    "#Tea -- 10 \n",
    "#2.Coffee -- 40 \n",
    "#3.Water -- 20 \n",
    "#4.Bun Mask -- 50\n",
    "#1.Plan your code 1 steps --o/p to i/p 2. if needed visual presentation 3.code\n",
    "#100 % coding one at a time. "
   ]
  },
  {
   "cell_type": "code",
   "outputs": [
    {
     "name": "stdout",
     "output_type": "stream",
     "text": [
      ".....................\n",
      ".....Tea stall.......\n",
      ".....................\n",
      "1.Tea..............10\n",
      "2.Coffee...........40\n",
      "3.Water............20\n",
      "Bun Mask...........50\n",
      ".....................\n",
      "Order number\n",
      "Order---->\n"
     ]
    },
    {
     "ename": "ValueError",
     "evalue": "not enough values to unpack (expected 3, got 1)",
     "output_type": "error",
     "traceback": [
      "\u001B[1;31m---------------------------------------------------------------------------\u001B[0m",
      "\u001B[1;31mValueError\u001B[0m                                Traceback (most recent call last)",
      "Cell \u001B[1;32mIn[1], line 14\u001B[0m\n\u001B[0;32m     12\u001B[0m \u001B[38;5;28mprint\u001B[39m(\u001B[38;5;124m\"\u001B[39m\u001B[38;5;124mOrder number\u001B[39m\u001B[38;5;124m\"\u001B[39m)\n\u001B[0;32m     13\u001B[0m \u001B[38;5;28mprint\u001B[39m(\u001B[38;5;124m\"\u001B[39m\u001B[38;5;124mOrder---->\u001B[39m\u001B[38;5;124m\"\u001B[39m)\n\u001B[1;32m---> 14\u001B[0m t,c,w\u001B[38;5;241m=\u001B[39m\u001B[38;5;28mmap\u001B[39m(\u001B[38;5;28mint\u001B[39m,\u001B[38;5;28minput\u001B[39m()\u001B[38;5;241m.\u001B[39msplit())\n\u001B[0;32m     15\u001B[0m \u001B[38;5;28mprint\u001B[39m(\u001B[38;5;124mf\u001B[39m\u001B[38;5;124m\"\u001B[39m\u001B[38;5;124morder is tea:(t)\u001B[39m\u001B[38;5;124m\"\u001B[39m)\n\u001B[0;32m     16\u001B[0m \u001B[38;5;28;01mpass\u001B[39;00m\n",
      "\u001B[1;31mValueError\u001B[0m: not enough values to unpack (expected 3, got 1)"
     ]
    }
   ],
   "source": [
    "while True:\n",
    "    ch=input(\"want to order? (y/n)\")\n",
    "    if ch=='y' or ch=='Y':\n",
    "        print(\".....................\")\n",
    "        print(\".....Tea stall.......\")\n",
    "        print(\".....................\")\n",
    "        print(\"1.Tea..............10\")\n",
    "        print(\"2.Coffee...........40\")\n",
    "        print(\"3.Water............20\")\n",
    "        print(\"Bun Mask...........50\")\n",
    "        print(\".....................\")\n",
    "        print(\"Order number\")\n",
    "        print(\"Order---->\")\n",
    "        t,c,w=map(int,input().split())\n",
    "        print(f\"order is tea:(t)\")\n",
    "        pass\n",
    "    elif ch=='n' or ch=='N':\n",
    "        print(\"Thanks visit again\")\n",
    "        break \n",
    "    else:\n",
    "        print(\"Please enter y or n...\")\n",
    "    "
   ],
   "metadata": {
    "collapsed": false,
    "ExecuteTime": {
     "end_time": "2025-01-06T07:14:42.371526300Z",
     "start_time": "2025-01-06T07:14:16.527700600Z"
    }
   },
   "id": "aa5605e68a00a0c6",
   "execution_count": 1
  },
  {
   "cell_type": "code",
   "outputs": [],
   "source": [],
   "metadata": {
    "collapsed": false,
    "ExecuteTime": {
     "end_time": "2025-01-06T07:14:05.973179200Z",
     "start_time": "2025-01-06T07:14:05.970264200Z"
    }
   },
   "id": "63bcd0d55cd9fed8",
   "execution_count": 0
  },
  {
   "cell_type": "code",
   "outputs": [],
   "source": [],
   "metadata": {
    "collapsed": false
   },
   "id": "3b41e90a47a07455"
  }
 ],
 "metadata": {
  "kernelspec": {
   "display_name": "Python 3",
   "language": "python",
   "name": "python3"
  },
  "language_info": {
   "codemirror_mode": {
    "name": "ipython",
    "version": 2
   },
   "file_extension": ".py",
   "mimetype": "text/x-python",
   "name": "python",
   "nbconvert_exporter": "python",
   "pygments_lexer": "ipython2",
   "version": "2.7.6"
  }
 },
 "nbformat": 4,
 "nbformat_minor": 5
}
