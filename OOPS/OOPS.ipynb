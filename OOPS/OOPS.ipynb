{
 "cells": [
  {
   "cell_type": "code",
   "execution_count": 9,
   "id": "initial_id",
   "metadata": {
    "collapsed": true,
    "ExecuteTime": {
     "end_time": "2025-01-07T05:36:01.066202200Z",
     "start_time": "2025-01-07T05:36:01.062241Z"
    }
   },
   "outputs": [],
   "source": [
    "class Human:\n",
    "    def birth(self,gender):\n",
    "        self.gender = gender\n",
    "        print(\"ref:\",id(self))\n",
    "    def naming(self,name):\n",
    "        self.name = name\n",
    "        print(\"ref:\",id(self))\n",
    "        "
   ]
  },
  {
   "cell_type": "code",
   "outputs": [],
   "source": [],
   "metadata": {
    "collapsed": false
   },
   "id": "e82998868e53836d"
  },
  {
   "cell_type": "code",
   "outputs": [],
   "source": [
    "h1=Human()"
   ],
   "metadata": {
    "collapsed": false,
    "ExecuteTime": {
     "end_time": "2025-01-07T05:33:38.560372Z",
     "start_time": "2025-01-07T05:33:38.555864400Z"
    }
   },
   "id": "7b80fad3380d054",
   "execution_count": 8
  },
  {
   "cell_type": "code",
   "outputs": [
    {
     "data": {
      "text/plain": "1645182642256"
     },
     "execution_count": 7,
     "metadata": {},
     "output_type": "execute_result"
    }
   ],
   "source": [
    "id(h1)"
   ],
   "metadata": {
    "collapsed": false,
    "ExecuteTime": {
     "end_time": "2025-01-07T05:33:15.505652200Z",
     "start_time": "2025-01-07T05:33:15.501980300Z"
    }
   },
   "id": "4cd708dd04407674",
   "execution_count": 7
  },
  {
   "cell_type": "code",
   "outputs": [],
   "source": [
    "class Circle:\n",
    "    def set_r(self,r):\n",
    "        self.r=r\n",
    "    def print_area(self):\n",
    "        print(\"area of circle:\",(3.14*self.r*self.r))\n",
    "        "
   ],
   "metadata": {
    "collapsed": false,
    "ExecuteTime": {
     "end_time": "2025-01-07T05:41:33.972110300Z",
     "start_time": "2025-01-07T05:41:33.963260700Z"
    }
   },
   "id": "fe97acb52d139319",
   "execution_count": 10
  },
  {
   "cell_type": "code",
   "outputs": [],
   "source": [
    "###Four pillars of oops:\n",
    "##Encapsulation: data + operations on data ; need - standard,\n",
    "\n",
    "##Abstarction: hide unwanted details and give access ; need - simple view ; visibility ; \n",
    "#public : to all 'var'\n",
    "#protected : access only to know \"__var\"\n",
    "#private : \n",
    "\n"
   ],
   "metadata": {
    "collapsed": false,
    "ExecuteTime": {
     "end_time": "2025-01-07T05:42:13.332272700Z",
     "start_time": "2025-01-07T05:42:13.327877700Z"
    }
   },
   "id": "5cf8bc6183d4c85e",
   "execution_count": 11
  },
  {
   "cell_type": "code",
   "outputs": [
    {
     "name": "stdout",
     "output_type": "stream",
     "text": [
      "30\n"
     ]
    }
   ],
   "source": [
    "class calculator:\n",
    "    def add(self,a,b):\n",
    "        return a+b\n",
    "    def subtract(self,a,b):\n",
    "        return a-b \n",
    "    def multiply(self,a,b):\n",
    "        return a*b \n",
    "    def divide(self,a,b):\n",
    "        if b==0:\n",
    "            return \"value error\"\n",
    "        return a/b\n",
    "    \n",
    "    \n",
    "\n",
    "if __name__ == \"__main__\":\n",
    "    calc = calculator()\n",
    "    print(calc.add(10,20))\n",
    "    \n",
    "    \n"
   ],
   "metadata": {
    "collapsed": false,
    "ExecuteTime": {
     "end_time": "2025-01-07T06:03:41.718063800Z",
     "start_time": "2025-01-07T06:03:41.716085900Z"
    }
   },
   "id": "b70a2556be4e664c",
   "execution_count": 13
  },
  {
   "cell_type": "code",
   "outputs": [
    {
     "name": "stdout",
     "output_type": "stream",
     "text": [
      "Name: Rohan, Age: 21, Gender: male\n",
      "To Do: vote\n"
     ]
    }
   ],
   "source": [
    "#create a class human stores name,age,gender\n",
    "#methods to set datails and print \n",
    "#addition method called eval(): will create vote if >=18\n",
    "#will create play <18 \n",
    "#this will stored in to do \n",
    "#variable \n",
    "\n",
    "class Human:\n",
    "    def __init__(self, name=None, age=None, gender=None):\n",
    "        self.name = name\n",
    "        self.age = age\n",
    "        self.gender = gender\n",
    "        self.to_do = None\n",
    "\n",
    "    def set_details(self, name, age, gender):\n",
    "        self.name = name\n",
    "        self.age = age\n",
    "        self.gender = gender\n",
    "    \n",
    "    def print_details(self):\n",
    "        print(f\"Name: {self.name}, Age: {self.age}, Gender: {self.gender}\")\n",
    "\n",
    "    def eval(self):\n",
    "        if self.age is not None:\n",
    "            if self.age >= 18:\n",
    "                self.to_do = \"vote\"\n",
    "            else:\n",
    "                self.to_do = \"play\"\n",
    "        else:\n",
    "            self.to_do = \"age not set\"\n",
    "\n",
    "person = Human()\n",
    "person.set_details(\"Rohan\", 21, \"male\")\n",
    "person.print_details()\n",
    "person.eval()\n",
    "print(f\"To Do: {person.to_do}\")\n"
   ],
   "metadata": {
    "collapsed": false,
    "ExecuteTime": {
     "end_time": "2025-01-07T06:15:58.281074500Z",
     "start_time": "2025-01-07T06:15:58.276712900Z"
    }
   },
   "id": "8db28ce2853ee3e9",
   "execution_count": 15
  },
  {
   "cell_type": "code",
   "outputs": [
    {
     "name": "stdout",
     "output_type": "stream",
     "text": [
      "Student(Name: Rohit, Gender: Female, Roll Number: 1)\n",
      "Student(Name: Rohan, Gender: Male, Roll Number: 2)\n"
     ]
    }
   ],
   "source": [
    "#use class student \n",
    "#give name gender but rollnumver is autogenrated \n",
    "\n",
    "class Student:\n",
    "    roll_number_counter = 1\n",
    "    \n",
    "    def __init__(self, name, gender):\n",
    "        self.name = name\n",
    "        self.gender = gender\n",
    "        self.roll_number = Student.roll_number_counter\n",
    "        Student.roll_number_counter += 1\n",
    "\n",
    "    def __repr__(self):\n",
    "        return f\"Student(Name: {self.name}, Gender: {self.gender}, Roll Number: {self.roll_number})\"\n",
    "\n",
    "student1 = Student(\"Rohit\", \"Female\")\n",
    "student2 = Student(\"Rohan\", \"Male\")\n",
    "\n",
    "print(student1)\n",
    "print(student2)\n"
   ],
   "metadata": {
    "collapsed": false,
    "ExecuteTime": {
     "end_time": "2025-01-07T06:38:26.306620200Z",
     "start_time": "2025-01-07T06:38:26.303591700Z"
    }
   },
   "id": "70b0c24d6dbcdcaf",
   "execution_count": 16
  },
  {
   "cell_type": "code",
   "outputs": [],
   "source": [
    "## Inheritence \n",
    "#taking properties from pre-existing \n",
    "#Advantages : reuse , standardisation , enhancement \n",
    "\n",
    "#Types of inheritence\n",
    "#. Single/Simple , Multilevel , Multiple  Heirarcheial , Hybrid \n",
    "\n"
   ],
   "metadata": {
    "collapsed": false
   },
   "id": "a43cc1c208be2424"
  },
  {
   "cell_type": "code",
   "outputs": [],
   "source": [],
   "metadata": {
    "collapsed": false
   },
   "id": "e5fe00e7296888fc"
  }
 ],
 "metadata": {
  "kernelspec": {
   "display_name": "Python 3",
   "language": "python",
   "name": "python3"
  },
  "language_info": {
   "codemirror_mode": {
    "name": "ipython",
    "version": 2
   },
   "file_extension": ".py",
   "mimetype": "text/x-python",
   "name": "python",
   "nbconvert_exporter": "python",
   "pygments_lexer": "ipython2",
   "version": "2.7.6"
  }
 },
 "nbformat": 4,
 "nbformat_minor": 5
}
