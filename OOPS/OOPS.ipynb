{
 "cells": [
  {
   "cell_type": "code",
   "execution_count": 9,
   "id": "initial_id",
   "metadata": {
    "collapsed": true,
    "ExecuteTime": {
     "end_time": "2025-01-07T05:36:01.066202200Z",
     "start_time": "2025-01-07T05:36:01.062241Z"
    }
   },
   "outputs": [],
   "source": [
    "class Human:\n",
    "    def birth(self,gender):\n",
    "        self.gender = gender\n",
    "        print(\"ref:\",id(self))\n",
    "    def naming(self,name):\n",
    "        self.name = name\n",
    "        print(\"ref:\",id(self))\n",
    "        "
   ]
  },
  {
   "cell_type": "code",
   "outputs": [],
   "source": [],
   "metadata": {
    "collapsed": false
   },
   "id": "e82998868e53836d"
  },
  {
   "cell_type": "code",
   "outputs": [],
   "source": [
    "h1=Human()"
   ],
   "metadata": {
    "collapsed": false,
    "ExecuteTime": {
     "end_time": "2025-01-07T05:33:38.560372Z",
     "start_time": "2025-01-07T05:33:38.555864400Z"
    }
   },
   "id": "7b80fad3380d054",
   "execution_count": 8
  },
  {
   "cell_type": "code",
   "outputs": [
    {
     "data": {
      "text/plain": "1645182642256"
     },
     "execution_count": 7,
     "metadata": {},
     "output_type": "execute_result"
    }
   ],
   "source": [
    "id(h1)"
   ],
   "metadata": {
    "collapsed": false,
    "ExecuteTime": {
     "end_time": "2025-01-07T05:33:15.505652200Z",
     "start_time": "2025-01-07T05:33:15.501980300Z"
    }
   },
   "id": "4cd708dd04407674",
   "execution_count": 7
  },
  {
   "cell_type": "code",
   "outputs": [],
   "source": [
    "class Circle:\n",
    "    def set_r(self,r):\n",
    "        self.r=r\n",
    "    def print_area(self):\n",
    "        print(\"area of circle:\",(3.14*self.r*self.r))\n",
    "        "
   ],
   "metadata": {
    "collapsed": false,
    "ExecuteTime": {
     "end_time": "2025-01-07T05:41:33.972110300Z",
     "start_time": "2025-01-07T05:41:33.963260700Z"
    }
   },
   "id": "fe97acb52d139319",
   "execution_count": 10
  },
  {
   "cell_type": "code",
   "outputs": [],
   "source": [
    "###Four pillars of oops:\n",
    "#Encapsulation: data + operations on data ; need - standard,\n",
    "\n",
    "#Abstarction: hide unwanted details and give access ; need - simple view ; visibility ; \n",
    "#public : to all 'var'\n",
    "#protected : access only to know \"__var\"\n",
    "#private : \n"
   ],
   "metadata": {
    "collapsed": false,
    "ExecuteTime": {
     "end_time": "2025-01-07T05:42:13.332272700Z",
     "start_time": "2025-01-07T05:42:13.327877700Z"
    }
   },
   "id": "5cf8bc6183d4c85e",
   "execution_count": 11
  },
  {
   "cell_type": "code",
   "outputs": [],
   "source": [],
   "metadata": {
    "collapsed": false
   },
   "id": "b70a2556be4e664c"
  }
 ],
 "metadata": {
  "kernelspec": {
   "display_name": "Python 3",
   "language": "python",
   "name": "python3"
  },
  "language_info": {
   "codemirror_mode": {
    "name": "ipython",
    "version": 2
   },
   "file_extension": ".py",
   "mimetype": "text/x-python",
   "name": "python",
   "nbconvert_exporter": "python",
   "pygments_lexer": "ipython2",
   "version": "2.7.6"
  }
 },
 "nbformat": 4,
 "nbformat_minor": 5
}
