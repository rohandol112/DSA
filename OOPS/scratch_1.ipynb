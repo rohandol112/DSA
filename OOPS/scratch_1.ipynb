{
 "cells": [
  {
   "cell_type": "code",
   "execution_count": 3,
   "id": "initial_id",
   "metadata": {
    "collapsed": true,
    "ExecuteTime": {
     "end_time": "2025-01-06T07:17:20.028684500Z",
     "start_time": "2025-01-06T07:17:20.025096600Z"
    }
   },
   "outputs": [
    {
     "name": "stdout",
     "output_type": "stream",
     "text": [
      "[11, 22, 11, 22, 44, 33, 55, 66, 11]\n"
     ]
    }
   ],
   "source": [
    "data=[11,22,11,22,44,33,55,66,11]\n",
    "print(data)\n",
    " "
   ]
  },
  {
   "cell_type": "code",
   "outputs": [
    {
     "name": "stdout",
     "output_type": "stream",
     "text": [
      "11: 3\n",
      "22: 2\n",
      "44: 1\n",
      "33: 1\n",
      "55: 1\n",
      "66: 1\n"
     ]
    }
   ],
   "source": [
    "#count \n",
    "data = [11, 22, 11, 22, 44, 33, 55, 66, 11]\n",
    "count = {}\n",
    "\n",
    "for element in data:\n",
    "    if element in count:\n",
    "        count[element] += 1\n",
    "    else:\n",
    "        count[element] = 1\n",
    "\n",
    "for element, frequency in count.items():\n",
    "    print(f\"{element}: {frequency}\")\n"
   ],
   "metadata": {
    "collapsed": false,
    "ExecuteTime": {
     "end_time": "2025-01-06T07:36:23.055225700Z",
     "start_time": "2025-01-06T07:36:23.052729500Z"
    }
   },
   "id": "2d0e0c8e5f8c3a3b",
   "execution_count": 17
  },
  {
   "cell_type": "code",
   "outputs": [
    {
     "data": {
      "text/plain": "[11, 11, 11, 22, 22, 33, 44, 55, 66]"
     },
     "execution_count": 7,
     "metadata": {},
     "output_type": "execute_result"
    }
   ],
   "source": [
    "data=[11,22,11,22,44,33,55,66,11]\n",
    "sorted(data)#returns sorted data\n",
    "\n"
   ],
   "metadata": {
    "collapsed": false,
    "ExecuteTime": {
     "end_time": "2025-01-06T07:23:23.002176600Z",
     "start_time": "2025-01-06T07:23:22.988368300Z"
    }
   },
   "id": "af7a2e988faadfb8",
   "execution_count": 7
  },
  {
   "cell_type": "code",
   "outputs": [
    {
     "name": "stdout",
     "output_type": "stream",
     "text": [
      "[11, 11, 11, 22, 22, 33, 44, 55, 66]\n"
     ]
    }
   ],
   "source": [
    "#second largest element in data\n",
    "data = [11, 22, 11, 22, 44, 33, 55, 66, 11]\n",
    "print(sorted(data))"
   ],
   "metadata": {
    "collapsed": false,
    "ExecuteTime": {
     "end_time": "2025-01-06T07:26:59.554690600Z",
     "start_time": "2025-01-06T07:26:59.552142500Z"
    }
   },
   "id": "972649e404a56528",
   "execution_count": 13
  },
  {
   "cell_type": "code",
   "outputs": [
    {
     "name": "stdout",
     "output_type": "stream",
     "text": [
      "66\n"
     ]
    }
   ],
   "source": [
    "data = [11, 22, 11, 22, 44, 33, 55, 66, 11]\n",
    "print(sorted(data)[-1])\n"
   ],
   "metadata": {
    "collapsed": false,
    "ExecuteTime": {
     "end_time": "2025-01-06T07:27:51.611Z",
     "start_time": "2025-01-06T07:27:51.606311300Z"
    }
   },
   "id": "867c12780a2d58c0",
   "execution_count": 15
  },
  {
   "cell_type": "code",
   "outputs": [
    {
     "name": "stdout",
     "output_type": "stream",
     "text": [
      "[1, 1, 2, 4, 5, 6, 7, 9]\n"
     ]
    }
   ],
   "source": [
    "l1=[2,7,1,4]\n",
    "l2=[1,9,5,6]\n",
    "l3=l1+l2\n",
    "print(sorted(l3))"
   ],
   "metadata": {
    "collapsed": false,
    "ExecuteTime": {
     "end_time": "2025-01-06T07:31:46.539056700Z",
     "start_time": "2025-01-06T07:31:46.535321500Z"
    }
   },
   "id": "caf40ecff627ce19",
   "execution_count": 16
  },
  {
   "cell_type": "code",
   "outputs": [
    {
     "name": "stdout",
     "output_type": "stream",
     "text": [
      "Original list: [10, 20, 30, 40, 50]\n",
      "iteration 1: [50, 10, 20, 30, 40]\n"
     ]
    }
   ],
   "source": [
    "l=[10,20,30,40,50]\n",
    "#list;rotate it clockwise ; n time ; n given by user ; print each iterations\n",
    "l = [10, 20, 30, 40, 50]\n",
    "n = int(input(\"Enter the number of rotations: \"))\n",
    "\n",
    "print(\"Original list:\", l)\n",
    "\n",
    "for i in range(n):\n",
    "    l = [l[-1]] + l[:-1]\n",
    "    print(f\"iteration {i + 1}: {l}\")\n"
   ],
   "metadata": {
    "collapsed": false,
    "ExecuteTime": {
     "end_time": "2025-01-06T07:40:48.538660200Z",
     "start_time": "2025-01-06T07:40:46.520042900Z"
    }
   },
   "id": "8ae980a7a034c5",
   "execution_count": 20
  },
  {
   "cell_type": "code",
   "outputs": [
    {
     "name": "stdout",
     "output_type": "stream",
     "text": [
      "Original list: [10, 20, 30, 40, 50]\n",
      "After iteration 1: [20, 30, 40, 50, 10]\n",
      "After iteration 2: [30, 40, 50, 10, 20]\n",
      "After iteration 3: [40, 50, 10, 20, 30]\n"
     ]
    }
   ],
   "source": [
    "l = [10, 20, 30, 40, 50]\n",
    "n = int(input(\"Enter the number of rotations: \"))\n",
    "\n",
    "print(\"Original list:\", l)\n",
    "\n",
    "for i in range(n):\n",
    "    l = l[1:] + [l[0]]\n",
    "    print(f\"After iteration {i + 1}: {l}\")\n"
   ],
   "metadata": {
    "collapsed": false,
    "ExecuteTime": {
     "end_time": "2025-01-06T07:47:20.053754800Z",
     "start_time": "2025-01-06T07:47:17.278647900Z"
    }
   },
   "id": "59cbb0eabdab6f19",
   "execution_count": 21
  },
  {
   "cell_type": "code",
   "outputs": [
    {
     "name": "stdout",
     "output_type": "stream",
     "text": [
      "[2, 3, 4]\n",
      "3.0\n"
     ]
    }
   ],
   "source": [
    "#print all numbers ; and avg of list\n",
    "l=[2,3,4]\n",
    "print(l)\n",
    "print(sum(l)/3)\n"
   ],
   "metadata": {
    "collapsed": false,
    "ExecuteTime": {
     "end_time": "2025-01-06T07:53:37.001716100Z",
     "start_time": "2025-01-06T07:53:36.974854600Z"
    }
   },
   "id": "1e9b68b9b394a93d",
   "execution_count": 22
  },
  {
   "cell_type": "code",
   "outputs": [],
   "source": [
    "contacts = {}\n",
    "\n",
    "def add_contact():\n",
    "    name = input(\"Enter the contact name: \").strip()\n",
    "    phone = input(\"Enter the phone number: \").strip()\n",
    "    if name in contacts:\n",
    "        print(f\"{name} is already in contacts. Updating the phone number.\")\n",
    "    contacts[name] = phone\n",
    "    print(f\"Contact added/updated: {name} -> {phone}\")\n",
    "\n",
    "def display_contacts():\n",
    "    if not contacts:\n",
    "        print(\"No contacts found.\")\n",
    "    else:\n",
    "        print(\"\\nContacts:\")\n",
    "        for name, phone in contacts.items():\n",
    "            print(f\"{name}: {phone}\")\n",
    "\n",
    "while True:\n",
    "    print(\"\\n1. Add Contact\")\n",
    "    print(\"2. Display Contacts\")\n",
    "    print(\"3. Exit\")\n",
    "    choice = input(\"Enter your choice: \").strip()\n",
    "    if choice == \"1\":\n",
    "        add_contact()\n",
    "    elif choice == \"2\":\n",
    "        display_contacts()\n",
    "    elif choice == \"3\":\n",
    "        print(\"Exiting the program. Goodbye!\")\n",
    "        break\n",
    "    else:\n",
    "        print(\"Invalid choice. Please try again.\")\n",
    "\n"
   ],
   "metadata": {
    "collapsed": false
   },
   "id": "b757785c55b46012"
  },
  {
   "cell_type": "code",
   "outputs": [],
   "source": [
    "contacts = {}\n",
    "\n",
    "def add_contact():\n",
    "    name = input(\"Enter the contact name: \").strip()\n",
    "    phone = input(\"Enter the phone number: \").strip()\n",
    "    if name in contacts:\n",
    "        print(f\"{name} is already in contacts. Updating the phone number.\")\n",
    "    contacts[name] = phone\n",
    "    print(f\"Contact added/updated: {name} -> {phone}\")\n",
    "\n",
    "def search_contact():\n",
    "    name = input(\"Enter the name to search: \").strip()\n",
    "    if name in contacts:\n",
    "        print(f\"{name}: {contacts[name]}\")\n",
    "    else:\n",
    "        print(f\"No contact found with the name: {name}\")\n",
    "\n",
    "def display_contacts():\n",
    "    if not contacts:\n",
    "        print(\"No contacts found.\")\n",
    "    else:\n",
    "        print(\"\\nContacts:\")\n",
    "        for name, phone in contacts.items():\n",
    "            print(f\"{name}: {phone}\")\n",
    "\n",
    "while True:\n",
    "    print(\"\\n1. Add Contact\")\n",
    "    print(\"2. Search Contact\")\n",
    "    print(\"3. Display Contacts\")\n",
    "    print(\"4. Exit\")\n",
    "    choice = input(\"Enter your choice: \").strip()\n",
    "    if choice == \"1\":\n",
    "        add_contact()\n",
    "    elif choice == \"2\":\n",
    "        search_contact()\n",
    "    elif choice == \"3\":\n",
    "        display_contacts()\n",
    "    elif choice == \"4\":\n",
    "        print(\"Exiting the program. Goodbye!\")\n",
    "        break\n",
    "    else:\n",
    "        print(\"Invalid choice. Please try again.\")\n"
   ],
   "metadata": {
    "collapsed": false
   },
   "id": "36dd05a0317fe3a4"
  },
  {
   "cell_type": "code",
   "outputs": [],
   "source": [],
   "metadata": {
    "collapsed": false
   },
   "id": "4ab4f0e602d03eee"
  }
 ],
 "metadata": {
  "kernelspec": {
   "display_name": "Python 3",
   "language": "python",
   "name": "python3"
  },
  "language_info": {
   "codemirror_mode": {
    "name": "ipython",
    "version": 2
   },
   "file_extension": ".py",
   "mimetype": "text/x-python",
   "name": "python",
   "nbconvert_exporter": "python",
   "pygments_lexer": "ipython2",
   "version": "2.7.6"
  }
 },
 "nbformat": 4,
 "nbformat_minor": 5
}
