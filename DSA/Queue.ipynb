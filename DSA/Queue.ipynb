{
 "cells": [
  {
   "cell_type": "code",
   "execution_count": null,
   "id": "initial_id",
   "metadata": {
    "collapsed": true
   },
   "outputs": [],
   "source": [
    "#Queue\n",
    "#FIFO based\n",
    "#Two side is rear(data out) and  front(data entres)\n",
    "#Queue is double ended.FCFS\n",
    " \n",
    "#application:\n",
    "#1.streaming. \n",
    "#2.scheduling (task/job/activity).\n",
    "#3.Message oriented communication.\n",
    "\n",
    "#Four types queues\n",
    "#linear : FIFO (cant be reuse)\n",
    "#circular : reuse of space\n",
    "#double ended : 2 ends to operate \n",
    "#priority queue -- RTOS -- not fifo/not lifo but on priority: \n",
    "\n",
    "\n",
    "#opearations \n",
    "Enqueue(e)\n",
    "#inserts element on queue at rear end (rear+1)\n",
    "Dequeue():e\n",
    "#removes and element from queue at front end. (front+1)\n",
    "isEmpty(): #if front > rear --empty \n",
    "is Full(): #if rear==Maxsize - 1 --- then full\n",
    "printQueue(): #print in fifo manner from front to rear. \n",
    "\n"
   ]
  },
  {
   "cell_type": "code",
   "outputs": [],
   "source": [
    "#creating a static queue\n",
    "class Queue:\n",
    "    def create__Queue(self,size):\n",
    "        self.Maxsize=size\n",
    "        self.q=[]\n",
    "        for i in range(size):\n",
    "            q.append(0)\n",
    "        "
   ],
   "metadata": {
    "collapsed": false
   },
   "id": "1afc0d52f37ddbb9"
  },
  {
   "cell_type": "code",
   "outputs": [],
   "source": [],
   "metadata": {
    "collapsed": false
   },
   "id": "4474c9ca07330ca6"
  }
 ],
 "metadata": {
  "kernelspec": {
   "display_name": "Python 3",
   "language": "python",
   "name": "python3"
  },
  "language_info": {
   "codemirror_mode": {
    "name": "ipython",
    "version": 2
   },
   "file_extension": ".py",
   "mimetype": "text/x-python",
   "name": "python",
   "nbconvert_exporter": "python",
   "pygments_lexer": "ipython2",
   "version": "2.7.6"
  }
 },
 "nbformat": 4,
 "nbformat_minor": 5
}
