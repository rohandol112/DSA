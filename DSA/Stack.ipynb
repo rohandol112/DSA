{
 "cells": [
  {
   "cell_type": "code",
   "execution_count": null,
   "id": "initial_id",
   "metadata": {
    "collapsed": true
   },
   "outputs": [],
   "source": [
    "#. Data Structures ; \n",
    "# Static : Stack queue graph \n",
    "#Dynamic : Tree and Linked List\n",
    "# Linear : Stack Queue Linked Lists\n",
    "# Non Linear : Tree Graph \n",
    "\n",
    "#ADT : a set of standards which must has to use by any data structure. \n"
   ]
  },
  {
   "cell_type": "code",
   "outputs": [],
   "source": [
    "create_stack:\n",
    "push(e)\n",
    "pop():\n",
    "peek():topmost element returned \n",
    "print_stack()\n",
    "is_full"
   ],
   "metadata": {
    "collapsed": false
   },
   "id": "52b147b153f1e423"
  },
  {
   "cell_type": "code",
   "outputs": [],
   "source": [
    "push(e):\n",
    "#insert element at top "
   ],
   "metadata": {
    "collapsed": false
   },
   "id": "cf814472b851b5b9"
  },
  {
   "cell_type": "code",
   "outputs": [],
   "source": [
    "class Stack:\n",
    "    def create_Stack(self,size):\n",
    "        self.Maxsize=size\n",
    "        self.s=[]\n",
    "        self.tos=1\n",
    "        for i in range(0,size,1):\n",
    "            self.s.append(0)\n",
    "        print(f\"stack is\")\n",
    "    def push(self,e):\n",
    "        self.tos+=1\n",
    "        self.s.append(e)\n",
    "        print(f\"pushed element\")\n",
    "    def is_full(self):\n",
    "        \n",
    "    def print_Stack(self):\n",
    "        print(self.s)\n",
    "    "
   ],
   "metadata": {
    "collapsed": false,
    "ExecuteTime": {
     "end_time": "2025-01-07T08:59:13.396218900Z",
     "start_time": "2025-01-07T08:59:13.394668100Z"
    }
   },
   "id": "bbd62e17ff09952b",
   "execution_count": 4
  },
  {
   "cell_type": "code",
   "outputs": [
    {
     "name": "stdout",
     "output_type": "stream",
     "text": [
      "stack is\n"
     ]
    }
   ],
   "source": [
    "obj=Stack()\n",
    "obj.create_Stack(5)"
   ],
   "metadata": {
    "collapsed": false,
    "ExecuteTime": {
     "end_time": "2025-01-07T09:01:23.421020500Z",
     "start_time": "2025-01-07T09:01:23.418462500Z"
    }
   },
   "id": "4a30fa4ee78cb881",
   "execution_count": 5
  },
  {
   "cell_type": "code",
   "outputs": [
    {
     "name": "stdout",
     "output_type": "stream",
     "text": [
      "Original String: Hello, World!\n",
      "Reversed String: !dlroW ,olleH\n"
     ]
    }
   ],
   "source": [
    "class Stack:\n",
    "    def __init__(self):\n",
    "        self.items = []\n",
    "\n",
    "    def push(self, item):\n",
    "        self.items.append(item)\n",
    "\n",
    "    def pop(self):\n",
    "        if not self.is_empty():\n",
    "            return self.items.pop()\n",
    "        return None\n",
    "\n",
    "    def is_empty(self):\n",
    "        return len(self.items) == 0\n",
    "\n",
    "def reverse_string_using_stack(input_string):\n",
    "    stack = Stack()\n",
    "    for char in input_string:\n",
    "        stack.push(char)\n",
    "    reversed_string = \"\"\n",
    "    while not stack.is_empty():\n",
    "        reversed_string += stack.pop()\n",
    "    return reversed_string\n",
    "\n",
    "input_str = \"Hello, World!\"\n",
    "reversed_str = reverse_string_using_stack(input_str)\n",
    "print(f\"Original String: {input_str}\")\n",
    "print(f\"Reversed String: {reversed_str}\")\n"
   ],
   "metadata": {
    "collapsed": false,
    "ExecuteTime": {
     "end_time": "2025-01-07T10:09:49.448454900Z",
     "start_time": "2025-01-07T10:09:49.445017100Z"
    }
   },
   "id": "8a84430e1081a1e1",
   "execution_count": 6
  },
  {
   "cell_type": "code",
   "outputs": [],
   "source": [
    "#application :2 checking wellness of control\n",
    "# equal ((()))\n",
    "#read char by char and push every '(' on stack\n",
    "#read char by char and pop every ')' from stack\n",
    "#1:at end stack is empty perfect\n",
    "#2/3 at end if stack not empty / in between stack becomes empty:False\n",
    "data=input(\"Enter string to check:\")\n",
    "stack=Stack()\n",
    "stack.create_stack()\n",
    "for char in data:\n",
    "    if char=='(':\n",
    "        stack.push(char)\n",
    "    if char==')':\n",
    "        if stack.is_empty():\n",
    "            print(\"String is:False\")\n",
    "            break\n",
    "        else:\n",
    "            data=stack.pop()\n",
    "else:\n",
    "    print(\"String is:\",stack.is_empty())"
   ],
   "metadata": {
    "collapsed": false
   },
   "id": "8f5e54d26fc01fce"
  },
  {
   "cell_type": "code",
   "outputs": [],
   "source": [
    "#application of stack commonly asked\n",
    "#1.reverse reverse_string_using_stack()\n",
    "#2.check wellness (){}[]\n",
    "#3.dec to binary using stack\n",
    "#4.in expression conversion \n",
    "#5.in expression evaluation\n"
   ],
   "metadata": {
    "collapsed": false
   },
   "id": "8cd82bc712ae5177"
  },
  {
   "cell_type": "code",
   "outputs": [
    {
     "ename": "SyntaxError",
     "evalue": "invalid syntax (863445435.py, line 1)",
     "output_type": "error",
     "traceback": [
      "\u001B[1;36m  Cell \u001B[1;32mIn[7], line 1\u001B[1;36m\u001B[0m\n\u001B[1;33m    123+*8-\u001B[0m\n\u001B[1;37m        ^\u001B[0m\n\u001B[1;31mSyntaxError\u001B[0m\u001B[1;31m:\u001B[0m invalid syntax\n"
     ]
    }
   ],
   "source": [
    "123+*8-\n"
   ],
   "metadata": {
    "collapsed": false,
    "ExecuteTime": {
     "end_time": "2025-01-07T11:09:10.800366Z",
     "start_time": "2025-01-07T11:09:10.770743600Z"
    }
   },
   "id": "c88922420979013e",
   "execution_count": 7
  }
 ],
 "metadata": {
  "kernelspec": {
   "display_name": "Python 3",
   "language": "python",
   "name": "python3"
  },
  "language_info": {
   "codemirror_mode": {
    "name": "ipython",
    "version": 2
   },
   "file_extension": ".py",
   "mimetype": "text/x-python",
   "name": "python",
   "nbconvert_exporter": "python",
   "pygments_lexer": "ipython2",
   "version": "2.7.6"
  }
 },
 "nbformat": 4,
 "nbformat_minor": 5
}
