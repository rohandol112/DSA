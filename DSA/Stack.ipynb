{
 "cells": [
  {
   "cell_type": "code",
   "execution_count": null,
   "id": "initial_id",
   "metadata": {
    "collapsed": true
   },
   "outputs": [],
   "source": [
    "#. Data Structures ; \n",
    "# Static : Stack queue graph \n",
    "#Dynamic : Tree and Linked List\n",
    "# Linear : Stack Queue Linked Lists\n",
    "# Non Linear : Tree Graph \n",
    "\n",
    "#ADT : a set of standards which must has to use by any data structure. \n"
   ]
  },
  {
   "cell_type": "code",
   "outputs": [],
   "source": [
    "create_stack:\n",
    "push(e)\n",
    "pop():\n",
    "peek():topmost element returned \n",
    "print_stack()\n",
    "is_full"
   ],
   "metadata": {
    "collapsed": false
   },
   "id": "52b147b153f1e423"
  },
  {
   "cell_type": "code",
   "outputs": [],
   "source": [
    "push(e):\n",
    "#insert element at top "
   ],
   "metadata": {
    "collapsed": false
   },
   "id": "cf814472b851b5b9"
  },
  {
   "cell_type": "code",
   "outputs": [],
   "source": [
    "class Stack:\n",
    "    def create_Stack(self,size):\n",
    "        self.Maxsize=size\n",
    "        self.s=[]\n",
    "        self.tos=1\n",
    "        for i in range(0,size,1):\n",
    "            self.s.append(0)\n",
    "        print(f\"stack is\")\n",
    "    def push(self,e):\n",
    "        self.tos+=1\n",
    "        self.s.append(e)\n",
    "        print(f\"pushed element\")\n",
    "    def is_full(self):\n",
    "        \n",
    "    def print_Stack(self):\n",
    "        print(self.s)\n",
    "    "
   ],
   "metadata": {
    "collapsed": false,
    "ExecuteTime": {
     "end_time": "2025-01-07T08:59:13.396218900Z",
     "start_time": "2025-01-07T08:59:13.394668100Z"
    }
   },
   "id": "bbd62e17ff09952b",
   "execution_count": 4
  },
  {
   "cell_type": "code",
   "outputs": [
    {
     "name": "stdout",
     "output_type": "stream",
     "text": [
      "stack is\n"
     ]
    }
   ],
   "source": [
    "obj=Stack()\n",
    "obj.create_Stack(5)"
   ],
   "metadata": {
    "collapsed": false,
    "ExecuteTime": {
     "end_time": "2025-01-07T09:01:23.421020500Z",
     "start_time": "2025-01-07T09:01:23.418462500Z"
    }
   },
   "id": "4a30fa4ee78cb881",
   "execution_count": 5
  },
  {
   "cell_type": "code",
   "outputs": [],
   "source": [],
   "metadata": {
    "collapsed": false
   },
   "id": "8a84430e1081a1e1"
  }
 ],
 "metadata": {
  "kernelspec": {
   "display_name": "Python 3",
   "language": "python",
   "name": "python3"
  },
  "language_info": {
   "codemirror_mode": {
    "name": "ipython",
    "version": 2
   },
   "file_extension": ".py",
   "mimetype": "text/x-python",
   "name": "python",
   "nbconvert_exporter": "python",
   "pygments_lexer": "ipython2",
   "version": "2.7.6"
  }
 },
 "nbformat": 4,
 "nbformat_minor": 5
}
