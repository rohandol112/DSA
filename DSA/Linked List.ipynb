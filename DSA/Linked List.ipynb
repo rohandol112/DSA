{
 "cells": [
  {
   "cell_type": "code",
   "execution_count": null,
   "id": "initial_id",
   "metadata": {
    "collapsed": true
   },
   "outputs": [],
   "source": [
    "#Linkedd List:\n",
    "#most powerful as can implement all other data structures.\n",
    "#defination \n",
    "#collection of node arranged in sequential manner such that each node ref to next in list\n",
    "#node : collection of data + ref to next\n",
    "\n",
    "class Node:\n",
    "    def __init__(self,data):\n",
    "        self.data = data\n",
    "        self.next = None\n",
    "\n",
    "#Applications:\n",
    "#1. in data supply chain \n",
    "#2. in data filteration \n",
    "#3. in polynomial addtion \n",
    "#4. in Game industry \n",
    "#      in play \n",
    "#      in structure\n",
    "#5. Navigation \n",
    "#6. in music (circular linked list)\n",
    "#7. implementing stack , queue , tree , graph \n",
    "\n"
   ]
  }
 ],
 "metadata": {
  "kernelspec": {
   "display_name": "Python 3",
   "language": "python",
   "name": "python3"
  },
  "language_info": {
   "codemirror_mode": {
    "name": "ipython",
    "version": 2
   },
   "file_extension": ".py",
   "mimetype": "text/x-python",
   "name": "python",
   "nbconvert_exporter": "python",
   "pygments_lexer": "ipython2",
   "version": "2.7.6"
  }
 },
 "nbformat": 4,
 "nbformat_minor": 5
}
